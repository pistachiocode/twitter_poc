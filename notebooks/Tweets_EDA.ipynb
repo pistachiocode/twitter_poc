{
 "cells": [
  {
   "cell_type": "code",
   "execution_count": 56,
   "metadata": {
    "ExecuteTime": {
     "end_time": "2020-02-11T04:36:35.981958Z",
     "start_time": "2020-02-11T04:36:35.965865Z"
    }
   },
   "outputs": [
    {
     "name": "stdout",
     "output_type": "stream",
     "text": [
      "0.10.0\n",
      "1.0.1\n"
     ]
    }
   ],
   "source": [
    "import pandas as pd\n",
    "import numpy as np\n",
    "import os\n",
    "import json\n",
    "\n",
    "import matplotlib.pyplot as plt\n",
    "import seaborn as sns\n",
    "\n",
    "import pandas.util.testing as tm\n",
    "\n",
    "print(sns.__version__)\n",
    "print(pd.__version__)\n",
    "\n",
    "pd.set_option('display.max_rows', 500)\n",
    "pd.set_option('display.max_columns', 500)\n",
    "pd.set_option('display.width', 1000)"
   ]
  },
  {
   "cell_type": "markdown",
   "metadata": {},
   "source": [
    "## Get tweets dataframe "
   ]
  },
  {
   "cell_type": "code",
   "execution_count": 96,
   "metadata": {
    "ExecuteTime": {
     "end_time": "2020-02-11T05:20:09.277865Z",
     "start_time": "2020-02-11T05:20:04.082821Z"
    }
   },
   "outputs": [
    {
     "name": "stdout",
     "output_type": "stream",
     "text": [
      "['PP', '.DS_Store', 'UnidasPodemos', \"'PP' OR Popular OR 'Partido Popular'\", 'Bildu', 'Investidurisima', 'EspañaExiste', '#SesiondeInvestidura', \"'PP' OR 'Partido Popular'\", 'TeruelExiste', 'VOX', 'Ciudadanos', 'Podemos', 'debateinvestidura', '#SesiondeInvestidura -filter:retweets -result_type:recent', 'ERC', 'CoaliciónCanaria', 'psoe', 'investidurasanchez', 'sanchez']\n",
      "Gettind data from ../data/PP\n",
      "Gettind data from ../data/UnidasPodemos\n",
      "Gettind data from ../data/'PP' OR Popular OR 'Partido Popular'\n",
      "Gettind data from ../data/Bildu\n",
      "Gettind data from ../data/Investidurisima\n",
      "Gettind data from ../data/EspañaExiste\n"
     ]
    },
    {
     "name": "stderr",
     "output_type": "stream",
     "text": [
      "b'Skipping line 1079: expected 17 fields, saw 18\\n'\n",
      "b'Skipping line 546: expected 17 fields, saw 24\\n'\n"
     ]
    },
    {
     "name": "stdout",
     "output_type": "stream",
     "text": [
      "Gettind data from ../data/#SesiondeInvestidura\n"
     ]
    },
    {
     "name": "stderr",
     "output_type": "stream",
     "text": [
      "b'Skipping line 2554: expected 17 fields, saw 24\\nSkipping line 14048: expected 17 fields, saw 24\\nSkipping line 14588: expected 17 fields, saw 24\\n'\n"
     ]
    },
    {
     "name": "stdout",
     "output_type": "stream",
     "text": [
      "Gettind data from ../data/'PP' OR 'Partido Popular'\n",
      "Gettind data from ../data/TeruelExiste\n",
      "Gettind data from ../data/VOX\n"
     ]
    },
    {
     "name": "stderr",
     "output_type": "stream",
     "text": [
      "b'Skipping line 8978: expected 17 fields, saw 24\\nSkipping line 13922: expected 17 fields, saw 24\\nSkipping line 18829: expected 17 fields, saw 24\\nSkipping line 19232: expected 17 fields, saw 24\\nSkipping line 19281: expected 17 fields, saw 24\\nSkipping line 19891: expected 17 fields, saw 24\\nSkipping line 31600: expected 17 fields, saw 24\\n'\n"
     ]
    },
    {
     "name": "stdout",
     "output_type": "stream",
     "text": [
      "Gettind data from ../data/Ciudadanos\n",
      "Gettind data from ../data/Podemos\n"
     ]
    },
    {
     "name": "stderr",
     "output_type": "stream",
     "text": [
      "b'Skipping line 52511: expected 17 fields, saw 24\\nSkipping line 62979: expected 17 fields, saw 24\\n'\n",
      "/Users/rocio/anaconda3/lib/python3.7/site-packages/IPython/core/interactiveshell.py:3057: DtypeWarning: Columns (6,7,9) have mixed types.Specify dtype option on import or set low_memory=False.\n",
      "  interactivity=interactivity, compiler=compiler, result=result)\n"
     ]
    },
    {
     "name": "stdout",
     "output_type": "stream",
     "text": [
      "Gettind data from ../data/debateinvestidura\n"
     ]
    },
    {
     "name": "stderr",
     "output_type": "stream",
     "text": [
      "b'Skipping line 8193: expected 17 fields, saw 24\\nSkipping line 10785: expected 17 fields, saw 24\\n'\n"
     ]
    },
    {
     "name": "stdout",
     "output_type": "stream",
     "text": [
      "Gettind data from ../data/#SesiondeInvestidura -filter:retweets -result_type:recent\n",
      "Gettind data from ../data/ERC\n"
     ]
    },
    {
     "name": "stderr",
     "output_type": "stream",
     "text": [
      "b'Skipping line 1986: expected 17 fields, saw 24\\nSkipping line 5917: expected 17 fields, saw 24\\nSkipping line 6862: expected 17 fields, saw 24\\nSkipping line 7455: expected 17 fields, saw 24\\nSkipping line 9472: expected 17 fields, saw 24\\nSkipping line 9859: expected 17 fields, saw 24\\nSkipping line 9906: expected 17 fields, saw 24\\nSkipping line 9954: expected 17 fields, saw 24\\nSkipping line 12682: expected 17 fields, saw 24\\nSkipping line 13307: expected 17 fields, saw 24\\nSkipping line 16176: expected 17 fields, saw 24\\nSkipping line 16186: expected 17 fields, saw 24\\nSkipping line 16206: expected 17 fields, saw 24\\nSkipping line 19271: expected 17 fields, saw 24\\nSkipping line 19328: expected 17 fields, saw 24\\nSkipping line 19358: expected 17 fields, saw 24\\nSkipping line 19404: expected 17 fields, saw 24\\nSkipping line 21051: expected 17 fields, saw 24\\nSkipping line 21124: expected 17 fields, saw 24\\nSkipping line 21307: expected 17 fields, saw 24\\nSkipping line 21401: expected 17 fields, saw 31\\nSkipping line 22365: expected 17 fields, saw 24\\nSkipping line 24117: expected 17 fields, saw 24\\nSkipping line 24151: expected 17 fields, saw 24\\nSkipping line 24171: expected 17 fields, saw 24\\nSkipping line 25992: expected 17 fields, saw 24\\nSkipping line 28806: expected 17 fields, saw 24\\nSkipping line 28925: expected 17 fields, saw 24\\nSkipping line 29258: expected 17 fields, saw 24\\nSkipping line 29979: expected 17 fields, saw 24\\n'\n",
      "b'Skipping line 33440: expected 17 fields, saw 24\\nSkipping line 36337: expected 17 fields, saw 24\\nSkipping line 37247: expected 17 fields, saw 24\\nSkipping line 37308: expected 17 fields, saw 24\\nSkipping line 39385: expected 17 fields, saw 24\\nSkipping line 40070: expected 17 fields, saw 24\\nSkipping line 41210: expected 17 fields, saw 24\\n'\n"
     ]
    },
    {
     "name": "stdout",
     "output_type": "stream",
     "text": [
      "Gettind data from ../data/CoaliciónCanaria\n",
      "Gettind data from ../data/psoe\n"
     ]
    },
    {
     "name": "stderr",
     "output_type": "stream",
     "text": [
      "b'Skipping line 861: expected 17 fields, saw 24\\nSkipping line 2930: expected 17 fields, saw 24\\nSkipping line 4993: expected 17 fields, saw 24\\nSkipping line 8363: expected 17 fields, saw 24\\nSkipping line 9767: expected 17 fields, saw 24\\nSkipping line 10353: expected 17 fields, saw 24\\nSkipping line 10357: expected 17 fields, saw 24\\nSkipping line 10446: expected 17 fields, saw 24\\nSkipping line 10515: expected 17 fields, saw 24\\nSkipping line 17016: expected 17 fields, saw 24\\nSkipping line 17535: expected 17 fields, saw 24\\nSkipping line 19052: expected 17 fields, saw 24\\nSkipping line 19083: expected 17 fields, saw 24\\nSkipping line 20025: expected 17 fields, saw 24\\nSkipping line 20046: expected 17 fields, saw 24\\nSkipping line 26082: expected 17 fields, saw 24\\nSkipping line 26223: expected 17 fields, saw 24\\n'\n"
     ]
    },
    {
     "name": "stdout",
     "output_type": "stream",
     "text": [
      "Gettind data from ../data/investidurasanchez\n",
      "Gettind data from ../data/sanchez\n"
     ]
    },
    {
     "name": "stderr",
     "output_type": "stream",
     "text": [
      "b'Skipping line 1145: expected 17 fields, saw 24\\n'\n"
     ]
    }
   ],
   "source": [
    "df_tweets = pd.DataFrame()\n",
    "\n",
    "tweets_dirs = os.listdir(\"../data/\")\n",
    "print(tweets_dirs)\n",
    "for d in tweets_dirs:\n",
    "    tweets_dir = \"../data/{}\".format(d)\n",
    "    if os.path.isdir(tweets_dir):\n",
    "        \n",
    "        try:\n",
    "            print(\"Gettind data from {}\".format(tweets_dir))\n",
    "            df = pd.read_csv(tweets_dir + \"/tweets.csv\", sep='\\t', quotechar='\"', error_bad_lines=False, dtype={'tweet_id_str':str})\n",
    "            df[\"keyword\"] = d\n",
    "            \n",
    "            if len(df_tweets) == 0:\n",
    "                df_tweets = df\n",
    "            else:\n",
    "                df.columns = df_tweets.columns\n",
    "                df_tweets = pd.concat([df_tweets, df], axis=0)\n",
    "            \n",
    "        except FileNotFoundError as e:\n",
    "            print(e)"
   ]
  },
  {
   "cell_type": "markdown",
   "metadata": {},
   "source": [
    "## Tweets dataframe exploration"
   ]
  },
  {
   "cell_type": "code",
   "execution_count": 97,
   "metadata": {
    "ExecuteTime": {
     "end_time": "2020-02-11T05:20:11.747492Z",
     "start_time": "2020-02-11T05:20:11.739577Z"
    }
   },
   "outputs": [
    {
     "data": {
      "text/plain": [
       "(255278, 18)"
      ]
     },
     "execution_count": 97,
     "metadata": {},
     "output_type": "execute_result"
    }
   ],
   "source": [
    "df_tweets.shape"
   ]
  },
  {
   "cell_type": "code",
   "execution_count": 98,
   "metadata": {
    "ExecuteTime": {
     "end_time": "2020-02-11T05:20:12.702416Z",
     "start_time": "2020-02-11T05:20:12.674591Z"
    }
   },
   "outputs": [
    {
     "data": {
      "text/html": [
       "<div>\n",
       "<style scoped>\n",
       "    .dataframe tbody tr th:only-of-type {\n",
       "        vertical-align: middle;\n",
       "    }\n",
       "\n",
       "    .dataframe tbody tr th {\n",
       "        vertical-align: top;\n",
       "    }\n",
       "\n",
       "    .dataframe thead th {\n",
       "        text-align: right;\n",
       "    }\n",
       "</style>\n",
       "<table border=\"1\" class=\"dataframe\">\n",
       "  <thead>\n",
       "    <tr style=\"text-align: right;\">\n",
       "      <th></th>\n",
       "      <th>tweet_created_at</th>\n",
       "      <th>tweet_id</th>\n",
       "      <th>tweet_id_str</th>\n",
       "      <th>tweet_hashtags</th>\n",
       "      <th>tweet_language</th>\n",
       "      <th>tweet_full_text</th>\n",
       "      <th>tweet_retweet_count</th>\n",
       "      <th>tweet_favorite_count</th>\n",
       "      <th>user_id</th>\n",
       "      <th>user_id_str</th>\n",
       "      <th>user_name</th>\n",
       "      <th>user_screen_name</th>\n",
       "      <th>user_description</th>\n",
       "      <th>user_followers_count</th>\n",
       "      <th>user_friends_count</th>\n",
       "      <th>user_statuses_count</th>\n",
       "      <th>user_location</th>\n",
       "      <th>keyword</th>\n",
       "    </tr>\n",
       "  </thead>\n",
       "  <tbody>\n",
       "    <tr>\n",
       "      <th>0</th>\n",
       "      <td>2020-01-12 17:47:47</td>\n",
       "      <td>1.216416e+18</td>\n",
       "      <td>1216416498371256320</td>\n",
       "      <td>[{'text': 'ministres', 'indices': [4, 14]}, {'text': 'UnidasPodemos', 'indices': [18, 32]}]</td>\n",
       "      <td>fr</td>\n",
       "      <td>Les   de   percevront juste 2.700€ par mois, ils reverseront le reste de leur revenu aux nécessiteux. https://t.co/W55440qrN2</td>\n",
       "      <td>1</td>\n",
       "      <td>1</td>\n",
       "      <td>4.328760e+08</td>\n",
       "      <td>432875983</td>\n",
       "      <td>Iris Solar 🐝</td>\n",
       "      <td>SOLARisis1</td>\n",
       "      <td>**J'aime ce qui me nourrit : le boire, le manger, les livres ** La Boétie</td>\n",
       "      <td>1542.0</td>\n",
       "      <td>1584.0</td>\n",
       "      <td>23802.0</td>\n",
       "      <td>France</td>\n",
       "      <td>UnidasPodemos</td>\n",
       "    </tr>\n",
       "    <tr>\n",
       "      <th>1</th>\n",
       "      <td>2020-01-12 15:49:05</td>\n",
       "      <td>1.216387e+18</td>\n",
       "      <td>1216386625523109890</td>\n",
       "      <td>[]</td>\n",
       "      <td>und</td>\n",
       "      <td>@jonerrepubli  @change_es  @amnistiaespana  @greenpeace_esp  @mundodesofia54  @pattgilmore  @nisaride  @reinlein  @Niobeacua @JRBNIMROD  @AldeasEspana  @unicef_es  @ACNURspain  @UnidasPodemos  @IreneMontero  @PabloIglesias  @equomadrid  @agarzon  @ManuelaCarmena  @AssembleaXSalou https://t.co/jvWX9Gn0II</td>\n",
       "      <td>2</td>\n",
       "      <td>4</td>\n",
       "      <td>3.230294e+09</td>\n",
       "      <td>3230293839</td>\n",
       "      <td>Maria Ballesteros</td>\n",
       "      <td>reinleinm</td>\n",
       "      <td>'La memoria guardará lo que valga la pena. La memoria sabe de mí más que yo; y ella no pierde lo que merece ser salvado'.</td>\n",
       "      <td>656.0</td>\n",
       "      <td>1815.0</td>\n",
       "      <td>1931.0</td>\n",
       "      <td>NaN</td>\n",
       "      <td>UnidasPodemos</td>\n",
       "    </tr>\n",
       "    <tr>\n",
       "      <th>2</th>\n",
       "      <td>2020-01-12 15:38:43</td>\n",
       "      <td>1.216384e+18</td>\n",
       "      <td>1216384015474753537</td>\n",
       "      <td>[]</td>\n",
       "      <td>ca</td>\n",
       "      <td>@DonMitxel_VI @EmiliPuig1 @antoniobanos_ @carlesral @mossos @PSOE @UnidasPodemos @cupnacional Què no! Que CUP i VOX han votat NO a @sanchezcastejon i  estan als antípodes.</td>\n",
       "      <td>0</td>\n",
       "      <td>0</td>\n",
       "      <td>1.176389e+18</td>\n",
       "      <td>1176389223785598976</td>\n",
       "      <td>Enric Viver</td>\n",
       "      <td>EnricViver</td>\n",
       "      <td>Filòsof, llibertari, activista pro no-violència. L'Estat espanyol és un paràsit, i ha de ser erradicat.</td>\n",
       "      <td>10.0</td>\n",
       "      <td>61.0</td>\n",
       "      <td>972.0</td>\n",
       "      <td>NaN</td>\n",
       "      <td>UnidasPodemos</td>\n",
       "    </tr>\n",
       "    <tr>\n",
       "      <th>3</th>\n",
       "      <td>2020-01-12 15:33:00</td>\n",
       "      <td>1.216383e+18</td>\n",
       "      <td>1216382578460188672</td>\n",
       "      <td>[]</td>\n",
       "      <td>ca</td>\n",
       "      <td>@EmiliPuig1 @antoniobanos_ @carlesral @mossos Poca gent del @PSOE i de @UnidasPodemos plantant cara al feixisme. Fàcil criticar a la @cupnacional des del sofà. cc @DonMitxel_VI</td>\n",
       "      <td>2</td>\n",
       "      <td>7</td>\n",
       "      <td>1.176389e+18</td>\n",
       "      <td>1176389223785598976</td>\n",
       "      <td>Enric Viver</td>\n",
       "      <td>EnricViver</td>\n",
       "      <td>Filòsof, llibertari, activista pro no-violència. L'Estat espanyol és un paràsit, i ha de ser erradicat.</td>\n",
       "      <td>10.0</td>\n",
       "      <td>61.0</td>\n",
       "      <td>972.0</td>\n",
       "      <td>NaN</td>\n",
       "      <td>UnidasPodemos</td>\n",
       "    </tr>\n",
       "    <tr>\n",
       "      <th>4</th>\n",
       "      <td>2020-01-12 14:52:04</td>\n",
       "      <td>1.216372e+18</td>\n",
       "      <td>1216372274762260480</td>\n",
       "      <td>[]</td>\n",
       "      <td>und</td>\n",
       "      <td>@Vecina_Erre @UnidasPodemos .@PODEMOS</td>\n",
       "      <td>0</td>\n",
       "      <td>0</td>\n",
       "      <td>4.710290e+08</td>\n",
       "      <td>471028961</td>\n",
       "      <td>Mabel Ojeda💢</td>\n",
       "      <td>mabelsaroman</td>\n",
       "      <td>Inmersa en el proceso de adopción con el CI desde hace años, y tú ¿has adoptado?    4IAs 1Fiv SS anulada x no estar para la fecha fijada.2Fiv-</td>\n",
       "      <td>1022.0</td>\n",
       "      <td>1003.0</td>\n",
       "      <td>22547.0</td>\n",
       "      <td>Cantabria, España</td>\n",
       "      <td>UnidasPodemos</td>\n",
       "    </tr>\n",
       "  </tbody>\n",
       "</table>\n",
       "</div>"
      ],
      "text/plain": [
       "      tweet_created_at      tweet_id         tweet_id_str                                                                               tweet_hashtags tweet_language                                                                                                                                                                                                                                                                                                   tweet_full_text tweet_retweet_count tweet_favorite_count       user_id          user_id_str          user_name user_screen_name                                                                                                                                user_description  user_followers_count  user_friends_count  user_statuses_count      user_location        keyword\n",
       "0  2020-01-12 17:47:47  1.216416e+18  1216416498371256320  [{'text': 'ministres', 'indices': [4, 14]}, {'text': 'UnidasPodemos', 'indices': [18, 32]}]             fr                                                                                                                                                                                     Les   de   percevront juste 2.700€ par mois, ils reverseront le reste de leur revenu aux nécessiteux. https://t.co/W55440qrN2                   1                    1  4.328760e+08            432875983       Iris Solar 🐝       SOLARisis1                                                                       **J'aime ce qui me nourrit : le boire, le manger, les livres ** La Boétie                1542.0              1584.0              23802.0             France  UnidasPodemos\n",
       "1  2020-01-12 15:49:05  1.216387e+18  1216386625523109890                                                                                           []            und  @jonerrepubli  @change_es  @amnistiaespana  @greenpeace_esp  @mundodesofia54  @pattgilmore  @nisaride  @reinlein  @Niobeacua @JRBNIMROD  @AldeasEspana  @unicef_es  @ACNURspain  @UnidasPodemos  @IreneMontero  @PabloIglesias  @equomadrid  @agarzon  @ManuelaCarmena  @AssembleaXSalou https://t.co/jvWX9Gn0II                   2                    4  3.230294e+09           3230293839  Maria Ballesteros        reinleinm                       'La memoria guardará lo que valga la pena. La memoria sabe de mí más que yo; y ella no pierde lo que merece ser salvado'.                 656.0              1815.0               1931.0                NaN  UnidasPodemos\n",
       "2  2020-01-12 15:38:43  1.216384e+18  1216384015474753537                                                                                           []             ca                                                                                                                                       @DonMitxel_VI @EmiliPuig1 @antoniobanos_ @carlesral @mossos @PSOE @UnidasPodemos @cupnacional Què no! Que CUP i VOX han votat NO a @sanchezcastejon i  estan als antípodes.                   0                    0  1.176389e+18  1176389223785598976        Enric Viver       EnricViver                                         Filòsof, llibertari, activista pro no-violència. L'Estat espanyol és un paràsit, i ha de ser erradicat.                  10.0                61.0                972.0                NaN  UnidasPodemos\n",
       "3  2020-01-12 15:33:00  1.216383e+18  1216382578460188672                                                                                           []             ca                                                                                                                                  @EmiliPuig1 @antoniobanos_ @carlesral @mossos Poca gent del @PSOE i de @UnidasPodemos plantant cara al feixisme. Fàcil criticar a la @cupnacional des del sofà. cc @DonMitxel_VI                   2                    7  1.176389e+18  1176389223785598976        Enric Viver       EnricViver                                         Filòsof, llibertari, activista pro no-violència. L'Estat espanyol és un paràsit, i ha de ser erradicat.                  10.0                61.0                972.0                NaN  UnidasPodemos\n",
       "4  2020-01-12 14:52:04  1.216372e+18  1216372274762260480                                                                                           []            und                                                                                                                                                                                                                                                                             @Vecina_Erre @UnidasPodemos .@PODEMOS                   0                    0  4.710290e+08            471028961       Mabel Ojeda💢     mabelsaroman  Inmersa en el proceso de adopción con el CI desde hace años, y tú ¿has adoptado?    4IAs 1Fiv SS anulada x no estar para la fecha fijada.2Fiv-                1022.0              1003.0              22547.0  Cantabria, España  UnidasPodemos"
      ]
     },
     "execution_count": 98,
     "metadata": {},
     "output_type": "execute_result"
    }
   ],
   "source": [
    "df_tweets.head()"
   ]
  },
  {
   "cell_type": "code",
   "execution_count": 99,
   "metadata": {
    "ExecuteTime": {
     "end_time": "2020-02-11T05:20:17.549711Z",
     "start_time": "2020-02-11T05:20:16.840784Z"
    }
   },
   "outputs": [
    {
     "data": {
      "text/plain": [
       "Text(0.5, 1.0, 'Number of tweets for each keyword')"
      ]
     },
     "execution_count": 99,
     "metadata": {},
     "output_type": "execute_result"
    },
    {
     "data": {
      "image/png": "[encoded data removed]",
      "text/plain": [
       "<Figure size 1080x1080 with 1 Axes>"
      ]
     },
     "metadata": {},
     "output_type": "display_data"
    }
   ],
   "source": [
    "sns.set_style(\"whitegrid\")\n",
    "\n",
    "plt.figure(figsize=(15, 15))\n",
    "ax = sns.countplot(y=\"keyword\", data=df_tweets, order=df_tweets['keyword'].value_counts().index)\n",
    "ax.set_xlabel(\"Number of tweets\")\n",
    "ax.set_ylabel(\"Keyword\")\n",
    "ax.set_title(\"Number of tweets for each keyword\")"
   ]
  },
  {
   "cell_type": "code",
   "execution_count": 100,
   "metadata": {
    "ExecuteTime": {
     "end_time": "2020-02-11T05:20:18.482650Z",
     "start_time": "2020-02-11T05:20:17.721783Z"
    }
   },
   "outputs": [
    {
     "data": {
      "text/plain": [
       "Text(0.5, 1.0, 'Number of tweets for each keyword (in Spanish)')"
      ]
     },
     "execution_count": 100,
     "metadata": {},
     "output_type": "execute_result"
    },
    {
     "data": {
      "image/png": "[encoded data removed]",
      "text/plain": [
       "<Figure size 1080x1080 with 1 Axes>"
      ]
     },
     "metadata": {},
     "output_type": "display_data"
    }
   ],
   "source": [
    "sns.set_style(\"whitegrid\")\n",
    "\n",
    "df_tweets_es = df_tweets.loc[df_tweets['tweet_language']==\"es\",:]\n",
    "\n",
    "plt.figure(figsize=(15, 15))\n",
    "ax = sns.countplot(y=\"keyword\", data=df_tweets_es, order=df_tweets_es['keyword'].value_counts().index)\n",
    "ax.set_xlabel(\"Number of tweets in spanish\")\n",
    "ax.set_ylabel(\"Keyword\")\n",
    "ax.set_title(\"Number of tweets for each keyword (in Spanish)\")"
   ]
  },
  {
   "cell_type": "code",
   "execution_count": 101,
   "metadata": {
    "ExecuteTime": {
     "end_time": "2020-02-11T05:20:19.262897Z",
     "start_time": "2020-02-11T05:20:19.256607Z"
    }
   },
   "outputs": [
    {
     "data": {
      "text/plain": [
       "(67570, 18)"
      ]
     },
     "execution_count": 101,
     "metadata": {},
     "output_type": "execute_result"
    }
   ],
   "source": [
    "df_tweets_es.shape"
   ]
  },
  {
   "cell_type": "code",
   "execution_count": 102,
   "metadata": {
    "ExecuteTime": {
     "end_time": "2020-02-11T05:20:20.269581Z",
     "start_time": "2020-02-11T05:20:20.192924Z"
    }
   },
   "outputs": [
    {
     "data": {
      "text/plain": [
       "array(['Nuevo vídeo de Un Tío Blanco Hetero.         https://t.co/1VrMCTGVUz',\n",
       "       'Pablo Casado (2020): Ya no puedo gobernar. Me voy a afeitar\" @pablocasado_   @populares                           https://t.co/a9Wg2ANVY0\"',\n",
       "       'Pues a mí, es hablarme de postconvercencia o espacio convergente y se me viene a la cabeza @Esquerra_ERC. No me digáis porqué 🤷\\u200d♂️.       https://t.co/8MOnqxaUHx',\n",
       "       ..., '@NataliaArana19 @abcespana Menudo hdlgp el Sánchez!!!',\n",
       "       'Sánchez elige perfiles técnicos para su gobierno. Por Linda Galmor y Guirong Fu  https://t.co/mplXKErdbe vía @lapaseata',\n",
       "       'Vox exhibe hoy su fuerza contra Sánchez con una gran protesta https://t.co/OM6Jt9ZGzP vía @ABCespana'],\n",
       "      dtype=object)"
      ]
     },
     "execution_count": 102,
     "metadata": {},
     "output_type": "execute_result"
    }
   ],
   "source": [
    "pd.set_option('display.max_colwidth', None)\n",
    "df_tweets_es.loc[:, 'tweet_full_text'].unique()"
   ]
  },
  {
   "cell_type": "markdown",
   "metadata": {},
   "source": [
    "## Get all hashtags"
   ]
  },
  {
   "cell_type": "code",
   "execution_count": 103,
   "metadata": {
    "ExecuteTime": {
     "end_time": "2020-02-11T05:20:24.238382Z",
     "start_time": "2020-02-11T05:20:24.226610Z"
    }
   },
   "outputs": [
    {
     "name": "stdout",
     "output_type": "stream",
     "text": [
      "Investidurísima\n",
      "Podemos\n",
      "MinisteriodeMamellas\n",
      "Mmmmm\n"
     ]
    }
   ],
   "source": [
    "hash_tags = [{'text': 'Investidurísima', 'indices': [37, 53]}, \n",
    "             {'text': 'Podemos', 'indices': [54, 62]}, \n",
    "             {'text': 'MinisteriodeMamellas', 'indices': [63, 84]}, \n",
    "             {'text': 'Mmmmm', 'indices': [85, 91]}]\n",
    "\n",
    "for h in hash_tags:\n",
    "    print(h['text'])"
   ]
  },
  {
   "cell_type": "code",
   "execution_count": 104,
   "metadata": {
    "ExecuteTime": {
     "end_time": "2020-02-11T05:20:25.136667Z",
     "start_time": "2020-02-11T05:20:25.123771Z"
    }
   },
   "outputs": [
    {
     "data": {
      "text/plain": [
       "tweet_created_at         object\n",
       "tweet_id                float64\n",
       "tweet_id_str             object\n",
       "tweet_hashtags           object\n",
       "tweet_language           object\n",
       "tweet_full_text          object\n",
       "tweet_retweet_count      object\n",
       "tweet_favorite_count     object\n",
       "user_id                 float64\n",
       "user_id_str              object\n",
       "user_name                object\n",
       "user_screen_name         object\n",
       "user_description         object\n",
       "user_followers_count    float64\n",
       "user_friends_count      float64\n",
       "user_statuses_count     float64\n",
       "user_location            object\n",
       "keyword                  object\n",
       "dtype: object"
      ]
     },
     "execution_count": 104,
     "metadata": {},
     "output_type": "execute_result"
    }
   ],
   "source": [
    "df_tweets_es.dtypes"
   ]
  },
  {
   "cell_type": "code",
   "execution_count": 105,
   "metadata": {
    "ExecuteTime": {
     "end_time": "2020-02-11T05:20:34.644391Z",
     "start_time": "2020-02-11T05:20:31.188084Z"
    }
   },
   "outputs": [
    {
     "data": {
      "text/html": [
       "<div>\n",
       "<style scoped>\n",
       "    .dataframe tbody tr th:only-of-type {\n",
       "        vertical-align: middle;\n",
       "    }\n",
       "\n",
       "    .dataframe tbody tr th {\n",
       "        vertical-align: top;\n",
       "    }\n",
       "\n",
       "    .dataframe thead th {\n",
       "        text-align: right;\n",
       "    }\n",
       "</style>\n",
       "<table border=\"1\" class=\"dataframe\">\n",
       "  <thead>\n",
       "    <tr style=\"text-align: right;\">\n",
       "      <th></th>\n",
       "      <th>tweet_id_str</th>\n",
       "      <th>tweet_hashtags</th>\n",
       "      <th>list_hashtags</th>\n",
       "      <th>n_hashtags</th>\n",
       "      <th>hashtags_text</th>\n",
       "    </tr>\n",
       "  </thead>\n",
       "  <tbody>\n",
       "    <tr>\n",
       "      <th>0</th>\n",
       "      <td>1215369133350703105</td>\n",
       "      <td>[{'text': 'Investidurísima', 'indices': [37, 53]}, {'text': 'Podemos', 'indices': [54, 62]}, {'text': 'MinisteriodeMamellas', 'indices': [63, 84]}, {'text': 'Mmmmm', 'indices': [85, 91]}]</td>\n",
       "      <td>[{'text': 'Investidurísima', 'indices': [37, 53]}, {'text': 'Podemos', 'indices': [54, 62]}, {'text': 'MinisteriodeMamellas', 'indices': [63, 84]}, {'text': 'Mmmmm', 'indices': [85, 91]}]</td>\n",
       "      <td>4</td>\n",
       "      <td>[Investidurísima, Podemos, MinisteriodeMamellas, Mmmmm]</td>\n",
       "    </tr>\n",
       "    <tr>\n",
       "      <th>2</th>\n",
       "      <td>1215303659673870336</td>\n",
       "      <td>[{'text': 'pablocasado', 'indices': [76, 88]}, {'text': 'pp', 'indices': [100, 103]}, {'text': 'partidopopular', 'indices': [104, 119]}, {'text': 'barba', 'indices': [120, 126]}, {'text': 'hipster', 'indices': [127, 135]}, {'text': 'investidurasanchez', 'indices': [136, 155]}, {'text': 'Investidura', 'indices': [156, 168]}, {'text': 'Investidurisima', 'indices': [169, 185]}, {'text': 'GobiernoProgresista', 'indices': [186, 206]}, {'text': 'Gobiernodecoalicion', 'indices': [207, 227]}, {'text': 'Gobierno', 'indices': [228, 237]}, {'text': 'GobiernoDeTodos', 'indices': [238, 254]}, {'text': 'casadodesbocado', 'indices': [255, 271]}, {'text': 'Casado', 'indices': [272, 279]}]</td>\n",
       "      <td>[{'text': 'pablocasado', 'indices': [76, 88]}, {'text': 'pp', 'indices': [100, 103]}, {'text': 'partidopopular', 'indices': [104, 119]}, {'text': 'barba', 'indices': [120, 126]}, {'text': 'hipster', 'indices': [127, 135]}, {'text': 'investidurasanchez', 'indices': [136, 155]}, {'text': 'Investidura', 'indices': [156, 168]}, {'text': 'Investidurisima', 'indices': [169, 185]}, {'text': 'GobiernoProgresista', 'indices': [186, 206]}, {'text': 'Gobiernodecoalicion', 'indices': [207, 227]}, {'text': 'Gobierno', 'indices': [228, 237]}, {'text': 'GobiernoDeTodos', 'indices': [238, 254]}, {'text': 'casadodesbocado', 'indices': [255, 271]}, {'text': 'Casado', 'indices': [272, 279]}]</td>\n",
       "      <td>14</td>\n",
       "      <td>[pablocasado, pp, partidopopular, barba, hipster, investidurasanchez, Investidura, Investidurisima, GobiernoProgresista, Gobiernodecoalicion, Gobierno, GobiernoDeTodos, casadodesbocado, Casado]</td>\n",
       "    </tr>\n",
       "    <tr>\n",
       "      <th>4</th>\n",
       "      <td>1215286642463977476</td>\n",
       "      <td>[{'text': 'MisCosas', 'indices': [132, 141]}, {'text': 'pagafantas', 'indices': [142, 153]}, {'text': 'Investidurisima', 'indices': [154, 170]}]</td>\n",
       "      <td>[{'text': 'MisCosas', 'indices': [132, 141]}, {'text': 'pagafantas', 'indices': [142, 153]}, {'text': 'Investidurisima', 'indices': [154, 170]}]</td>\n",
       "      <td>3</td>\n",
       "      <td>[MisCosas, pagafantas, Investidurisima]</td>\n",
       "    </tr>\n",
       "    <tr>\n",
       "      <th>5</th>\n",
       "      <td>1215284526299189248</td>\n",
       "      <td>[{'text': 'Investidurisima', 'indices': [124, 140]}]</td>\n",
       "      <td>[{'text': 'Investidurisima', 'indices': [124, 140]}]</td>\n",
       "      <td>1</td>\n",
       "      <td>[Investidurisima]</td>\n",
       "    </tr>\n",
       "    <tr>\n",
       "      <th>6</th>\n",
       "      <td>1215281746813603842</td>\n",
       "      <td>[{'text': 'Gobierno', 'indices': [61, 70]}, {'text': 'GobiernoProgresista', 'indices': [71, 91]}, {'text': 'Gobiernocoalición', 'indices': [92, 110]}, {'text': 'Gobiernodecoalición', 'indices': [111, 131]}, {'text': 'debateinvestidura', 'indices': [132, 150]}, {'text': 'debatedeinvestidura', 'indices': [151, 171]}, {'text': 'Sánchez', 'indices': [172, 180]}, {'text': 'PedroSánchez', 'indices': [181, 194]}, {'text': 'investiduraSánchez', 'indices': [195, 214]}, {'text': 'Investidurisima', 'indices': [215, 231]}, {'text': 'investidura', 'indices': [232, 244]}, {'text': 'investiduraARV', 'indices': [245, 260]}]</td>\n",
       "      <td>[{'text': 'Gobierno', 'indices': [61, 70]}, {'text': 'GobiernoProgresista', 'indices': [71, 91]}, {'text': 'Gobiernocoalición', 'indices': [92, 110]}, {'text': 'Gobiernodecoalición', 'indices': [111, 131]}, {'text': 'debateinvestidura', 'indices': [132, 150]}, {'text': 'debatedeinvestidura', 'indices': [151, 171]}, {'text': 'Sánchez', 'indices': [172, 180]}, {'text': 'PedroSánchez', 'indices': [181, 194]}, {'text': 'investiduraSánchez', 'indices': [195, 214]}, {'text': 'Investidurisima', 'indices': [215, 231]}, {'text': 'investidura', 'indices': [232, 244]}, {'text': 'investiduraARV', 'indices': [245, 260]}]</td>\n",
       "      <td>12</td>\n",
       "      <td>[Gobierno, GobiernoProgresista, Gobiernocoalición, Gobiernodecoalición, debateinvestidura, debatedeinvestidura, Sánchez, PedroSánchez, investiduraSánchez, Investidurisima, investidura, investiduraARV]</td>\n",
       "    </tr>\n",
       "    <tr>\n",
       "      <th>...</th>\n",
       "      <td>...</td>\n",
       "      <td>...</td>\n",
       "      <td>...</td>\n",
       "      <td>...</td>\n",
       "      <td>...</td>\n",
       "    </tr>\n",
       "    <tr>\n",
       "      <th>2780</th>\n",
       "      <td>1216290219793797122</td>\n",
       "      <td>[]</td>\n",
       "      <td>[]</td>\n",
       "      <td>0</td>\n",
       "      <td>[]</td>\n",
       "    </tr>\n",
       "    <tr>\n",
       "      <th>2781</th>\n",
       "      <td>1216290187795410951</td>\n",
       "      <td>[]</td>\n",
       "      <td>[]</td>\n",
       "      <td>0</td>\n",
       "      <td>[]</td>\n",
       "    </tr>\n",
       "    <tr>\n",
       "      <th>2782</th>\n",
       "      <td>1216290172263915520</td>\n",
       "      <td>[]</td>\n",
       "      <td>[]</td>\n",
       "      <td>0</td>\n",
       "      <td>[]</td>\n",
       "    </tr>\n",
       "    <tr>\n",
       "      <th>2783</th>\n",
       "      <td>1216290154098429952</td>\n",
       "      <td>[]</td>\n",
       "      <td>[]</td>\n",
       "      <td>0</td>\n",
       "      <td>[]</td>\n",
       "    </tr>\n",
       "    <tr>\n",
       "      <th>2785</th>\n",
       "      <td>1216290144916918272</td>\n",
       "      <td>[]</td>\n",
       "      <td>[]</td>\n",
       "      <td>0</td>\n",
       "      <td>[]</td>\n",
       "    </tr>\n",
       "  </tbody>\n",
       "</table>\n",
       "<p>67570 rows × 5 columns</p>\n",
       "</div>"
      ],
      "text/plain": [
       "             tweet_id_str                                                                                                                                                                                                                                                                                                                                                                                                                                                                                                                                                                                                                                                                                             tweet_hashtags  \\\n",
       "0     1215369133350703105                                                                                                                                                                                                                                                                                                                                                                                                                                                                                                                [{'text': 'Investidurísima', 'indices': [37, 53]}, {'text': 'Podemos', 'indices': [54, 62]}, {'text': 'MinisteriodeMamellas', 'indices': [63, 84]}, {'text': 'Mmmmm', 'indices': [85, 91]}]   \n",
       "2     1215303659673870336  [{'text': 'pablocasado', 'indices': [76, 88]}, {'text': 'pp', 'indices': [100, 103]}, {'text': 'partidopopular', 'indices': [104, 119]}, {'text': 'barba', 'indices': [120, 126]}, {'text': 'hipster', 'indices': [127, 135]}, {'text': 'investidurasanchez', 'indices': [136, 155]}, {'text': 'Investidura', 'indices': [156, 168]}, {'text': 'Investidurisima', 'indices': [169, 185]}, {'text': 'GobiernoProgresista', 'indices': [186, 206]}, {'text': 'Gobiernodecoalicion', 'indices': [207, 227]}, {'text': 'Gobierno', 'indices': [228, 237]}, {'text': 'GobiernoDeTodos', 'indices': [238, 254]}, {'text': 'casadodesbocado', 'indices': [255, 271]}, {'text': 'Casado', 'indices': [272, 279]}]   \n",
       "4     1215286642463977476                                                                                                                                                                                                                                                                                                                                                                                                                                                                                                                                                           [{'text': 'MisCosas', 'indices': [132, 141]}, {'text': 'pagafantas', 'indices': [142, 153]}, {'text': 'Investidurisima', 'indices': [154, 170]}]   \n",
       "5     1215284526299189248                                                                                                                                                                                                                                                                                                                                                                                                                                                                                                                                                                                                                                                       [{'text': 'Investidurisima', 'indices': [124, 140]}]   \n",
       "6     1215281746813603842                                                                    [{'text': 'Gobierno', 'indices': [61, 70]}, {'text': 'GobiernoProgresista', 'indices': [71, 91]}, {'text': 'Gobiernocoalición', 'indices': [92, 110]}, {'text': 'Gobiernodecoalición', 'indices': [111, 131]}, {'text': 'debateinvestidura', 'indices': [132, 150]}, {'text': 'debatedeinvestidura', 'indices': [151, 171]}, {'text': 'Sánchez', 'indices': [172, 180]}, {'text': 'PedroSánchez', 'indices': [181, 194]}, {'text': 'investiduraSánchez', 'indices': [195, 214]}, {'text': 'Investidurisima', 'indices': [215, 231]}, {'text': 'investidura', 'indices': [232, 244]}, {'text': 'investiduraARV', 'indices': [245, 260]}]   \n",
       "...                   ...                                                                                                                                                                                                                                                                                                                                                                                                                                                                                                                                                                                                                                                                                                        ...   \n",
       "2780  1216290219793797122                                                                                                                                                                                                                                                                                                                                                                                                                                                                                                                                                                                                                                                                                                         []   \n",
       "2781  1216290187795410951                                                                                                                                                                                                                                                                                                                                                                                                                                                                                                                                                                                                                                                                                                         []   \n",
       "2782  1216290172263915520                                                                                                                                                                                                                                                                                                                                                                                                                                                                                                                                                                                                                                                                                                         []   \n",
       "2783  1216290154098429952                                                                                                                                                                                                                                                                                                                                                                                                                                                                                                                                                                                                                                                                                                         []   \n",
       "2785  1216290144916918272                                                                                                                                                                                                                                                                                                                                                                                                                                                                                                                                                                                                                                                                                                         []   \n",
       "\n",
       "                                                                                                                                                                                                                                                                                                                                                                                                                                                                                                                                                                                                                                                                                                  list_hashtags  n_hashtags                                                                                                                                                                                             hashtags_text  \n",
       "0                                                                                                                                                                                                                                                                                                                                                                                                                                                                                                                   [{'text': 'Investidurísima', 'indices': [37, 53]}, {'text': 'Podemos', 'indices': [54, 62]}, {'text': 'MinisteriodeMamellas', 'indices': [63, 84]}, {'text': 'Mmmmm', 'indices': [85, 91]}]           4                                                                                                                                                   [Investidurísima, Podemos, MinisteriodeMamellas, Mmmmm]  \n",
       "2     [{'text': 'pablocasado', 'indices': [76, 88]}, {'text': 'pp', 'indices': [100, 103]}, {'text': 'partidopopular', 'indices': [104, 119]}, {'text': 'barba', 'indices': [120, 126]}, {'text': 'hipster', 'indices': [127, 135]}, {'text': 'investidurasanchez', 'indices': [136, 155]}, {'text': 'Investidura', 'indices': [156, 168]}, {'text': 'Investidurisima', 'indices': [169, 185]}, {'text': 'GobiernoProgresista', 'indices': [186, 206]}, {'text': 'Gobiernodecoalicion', 'indices': [207, 227]}, {'text': 'Gobierno', 'indices': [228, 237]}, {'text': 'GobiernoDeTodos', 'indices': [238, 254]}, {'text': 'casadodesbocado', 'indices': [255, 271]}, {'text': 'Casado', 'indices': [272, 279]}]          14         [pablocasado, pp, partidopopular, barba, hipster, investidurasanchez, Investidura, Investidurisima, GobiernoProgresista, Gobiernodecoalicion, Gobierno, GobiernoDeTodos, casadodesbocado, Casado]  \n",
       "4                                                                                                                                                                                                                                                                                                                                                                                                                                                                                                                                                              [{'text': 'MisCosas', 'indices': [132, 141]}, {'text': 'pagafantas', 'indices': [142, 153]}, {'text': 'Investidurisima', 'indices': [154, 170]}]           3                                                                                                                                                                   [MisCosas, pagafantas, Investidurisima]  \n",
       "5                                                                                                                                                                                                                                                                                                                                                                                                                                                                                                                                                                                                                                                          [{'text': 'Investidurisima', 'indices': [124, 140]}]           1                                                                                                                                                                                         [Investidurisima]  \n",
       "6                                                                       [{'text': 'Gobierno', 'indices': [61, 70]}, {'text': 'GobiernoProgresista', 'indices': [71, 91]}, {'text': 'Gobiernocoalición', 'indices': [92, 110]}, {'text': 'Gobiernodecoalición', 'indices': [111, 131]}, {'text': 'debateinvestidura', 'indices': [132, 150]}, {'text': 'debatedeinvestidura', 'indices': [151, 171]}, {'text': 'Sánchez', 'indices': [172, 180]}, {'text': 'PedroSánchez', 'indices': [181, 194]}, {'text': 'investiduraSánchez', 'indices': [195, 214]}, {'text': 'Investidurisima', 'indices': [215, 231]}, {'text': 'investidura', 'indices': [232, 244]}, {'text': 'investiduraARV', 'indices': [245, 260]}]          12  [Gobierno, GobiernoProgresista, Gobiernocoalición, Gobiernodecoalición, debateinvestidura, debatedeinvestidura, Sánchez, PedroSánchez, investiduraSánchez, Investidurisima, investidura, investiduraARV]  \n",
       "...                                                                                                                                                                                                                                                                                                                                                                                                                                                                                                                                                                                                                                                                                                         ...         ...                                                                                                                                                                                                       ...  \n",
       "2780                                                                                                                                                                                                                                                                                                                                                                                                                                                                                                                                                                                                                                                                                                         []           0                                                                                                                                                                                                        []  \n",
       "2781                                                                                                                                                                                                                                                                                                                                                                                                                                                                                                                                                                                                                                                                                                         []           0                                                                                                                                                                                                        []  \n",
       "2782                                                                                                                                                                                                                                                                                                                                                                                                                                                                                                                                                                                                                                                                                                         []           0                                                                                                                                                                                                        []  \n",
       "2783                                                                                                                                                                                                                                                                                                                                                                                                                                                                                                                                                                                                                                                                                                         []           0                                                                                                                                                                                                        []  \n",
       "2785                                                                                                                                                                                                                                                                                                                                                                                                                                                                                                                                                                                                                                                                                                         []           0                                                                                                                                                                                                        []  \n",
       "\n",
       "[67570 rows x 5 columns]"
      ]
     },
     "execution_count": 105,
     "metadata": {},
     "output_type": "execute_result"
    }
   ],
   "source": [
    "import ast\n",
    "df = df_tweets_es.loc[:, [\"tweet_id_str\", \"tweet_hashtags\"]]\n",
    "df['list_hashtags'] = df['tweet_hashtags'].apply(lambda x : ast.literal_eval(x))\n",
    "df['n_hashtags'] = df['list_hashtags'].apply(lambda x : len(x))\n",
    "df['hashtags_text'] = df['list_hashtags'].apply(lambda x : [hashtag['text'] for hashtag in x])\n",
    "df"
   ]
  },
  {
   "cell_type": "code",
   "execution_count": 116,
   "metadata": {
    "ExecuteTime": {
     "end_time": "2020-02-11T05:24:20.672991Z",
     "start_time": "2020-02-11T05:23:49.024327Z"
    }
   },
   "outputs": [],
   "source": [
    "res = df.set_index([\"tweet_id_str\"])['hashtags_text'].apply(pd.Series).stack()\n",
    "res = res.reset_index()\n"
   ]
  },
  {
   "cell_type": "code",
   "execution_count": 117,
   "metadata": {
    "ExecuteTime": {
     "end_time": "2020-02-11T05:25:06.015140Z",
     "start_time": "2020-02-11T05:25:06.002701Z"
    }
   },
   "outputs": [
    {
     "data": {
      "text/html": [
       "<div>\n",
       "<style scoped>\n",
       "    .dataframe tbody tr th:only-of-type {\n",
       "        vertical-align: middle;\n",
       "    }\n",
       "\n",
       "    .dataframe tbody tr th {\n",
       "        vertical-align: top;\n",
       "    }\n",
       "\n",
       "    .dataframe thead th {\n",
       "        text-align: right;\n",
       "    }\n",
       "</style>\n",
       "<table border=\"1\" class=\"dataframe\">\n",
       "  <thead>\n",
       "    <tr style=\"text-align: right;\">\n",
       "      <th></th>\n",
       "      <th>tweet_id_str</th>\n",
       "      <th>level_1</th>\n",
       "      <th>0</th>\n",
       "    </tr>\n",
       "  </thead>\n",
       "  <tbody>\n",
       "    <tr>\n",
       "      <th>0</th>\n",
       "      <td>1215369133350703105</td>\n",
       "      <td>0</td>\n",
       "      <td>Investidurísima</td>\n",
       "    </tr>\n",
       "    <tr>\n",
       "      <th>1</th>\n",
       "      <td>1215369133350703105</td>\n",
       "      <td>1</td>\n",
       "      <td>Podemos</td>\n",
       "    </tr>\n",
       "    <tr>\n",
       "      <th>2</th>\n",
       "      <td>1215369133350703105</td>\n",
       "      <td>2</td>\n",
       "      <td>MinisteriodeMamellas</td>\n",
       "    </tr>\n",
       "    <tr>\n",
       "      <th>3</th>\n",
       "      <td>1215369133350703105</td>\n",
       "      <td>3</td>\n",
       "      <td>Mmmmm</td>\n",
       "    </tr>\n",
       "    <tr>\n",
       "      <th>4</th>\n",
       "      <td>1215303659673870336</td>\n",
       "      <td>0</td>\n",
       "      <td>pablocasado</td>\n",
       "    </tr>\n",
       "  </tbody>\n",
       "</table>\n",
       "</div>"
      ],
      "text/plain": [
       "          tweet_id_str  level_1                     0\n",
       "0  1215369133350703105        0       Investidurísima\n",
       "1  1215369133350703105        1               Podemos\n",
       "2  1215369133350703105        2  MinisteriodeMamellas\n",
       "3  1215369133350703105        3                 Mmmmm\n",
       "4  1215303659673870336        0           pablocasado"
      ]
     },
     "execution_count": 117,
     "metadata": {},
     "output_type": "execute_result"
    }
   ],
   "source": [
    "res.head()"
   ]
  },
  {
   "cell_type": "code",
   "execution_count": 119,
   "metadata": {
    "ExecuteTime": {
     "end_time": "2020-02-11T05:25:21.377684Z",
     "start_time": "2020-02-11T05:25:21.346053Z"
    }
   },
   "outputs": [],
   "source": [
    "res.drop([\"level_1\"], inplace=True, axis=1)"
   ]
  },
  {
   "cell_type": "code",
   "execution_count": 121,
   "metadata": {
    "ExecuteTime": {
     "end_time": "2020-02-11T05:25:47.081586Z",
     "start_time": "2020-02-11T05:25:47.048266Z"
    }
   },
   "outputs": [
    {
     "data": {
      "text/html": [
       "<div>\n",
       "<style scoped>\n",
       "    .dataframe tbody tr th:only-of-type {\n",
       "        vertical-align: middle;\n",
       "    }\n",
       "\n",
       "    .dataframe tbody tr th {\n",
       "        vertical-align: top;\n",
       "    }\n",
       "\n",
       "    .dataframe thead th {\n",
       "        text-align: right;\n",
       "    }\n",
       "</style>\n",
       "<table border=\"1\" class=\"dataframe\">\n",
       "  <thead>\n",
       "    <tr style=\"text-align: right;\">\n",
       "      <th></th>\n",
       "      <th>tweet_id_str</th>\n",
       "      <th>hashtag</th>\n",
       "    </tr>\n",
       "  </thead>\n",
       "  <tbody>\n",
       "    <tr>\n",
       "      <th>0</th>\n",
       "      <td>1215369133350703105</td>\n",
       "      <td>Investidurísima</td>\n",
       "    </tr>\n",
       "    <tr>\n",
       "      <th>1</th>\n",
       "      <td>1215369133350703105</td>\n",
       "      <td>Podemos</td>\n",
       "    </tr>\n",
       "    <tr>\n",
       "      <th>2</th>\n",
       "      <td>1215369133350703105</td>\n",
       "      <td>MinisteriodeMamellas</td>\n",
       "    </tr>\n",
       "    <tr>\n",
       "      <th>3</th>\n",
       "      <td>1215369133350703105</td>\n",
       "      <td>Mmmmm</td>\n",
       "    </tr>\n",
       "    <tr>\n",
       "      <th>4</th>\n",
       "      <td>1215303659673870336</td>\n",
       "      <td>pablocasado</td>\n",
       "    </tr>\n",
       "  </tbody>\n",
       "</table>\n",
       "</div>"
      ],
      "text/plain": [
       "          tweet_id_str               hashtag\n",
       "0  1215369133350703105       Investidurísima\n",
       "1  1215369133350703105               Podemos\n",
       "2  1215369133350703105  MinisteriodeMamellas\n",
       "3  1215369133350703105                 Mmmmm\n",
       "4  1215303659673870336           pablocasado"
      ]
     },
     "execution_count": 121,
     "metadata": {},
     "output_type": "execute_result"
    }
   ],
   "source": [
    "res.columns = [\"tweet_id_str\", \"hashtag\"]\n",
    "res.head()"
   ]
  },
  {
   "cell_type": "code",
   "execution_count": 124,
   "metadata": {
    "ExecuteTime": {
     "end_time": "2020-02-11T05:28:00.298786Z",
     "start_time": "2020-02-11T05:28:00.252858Z"
    }
   },
   "outputs": [
    {
     "data": {
      "text/html": [
       "<div>\n",
       "<style scoped>\n",
       "    .dataframe tbody tr th:only-of-type {\n",
       "        vertical-align: middle;\n",
       "    }\n",
       "\n",
       "    .dataframe tbody tr th {\n",
       "        vertical-align: top;\n",
       "    }\n",
       "\n",
       "    .dataframe thead th {\n",
       "        text-align: right;\n",
       "    }\n",
       "</style>\n",
       "<table border=\"1\" class=\"dataframe\">\n",
       "  <thead>\n",
       "    <tr style=\"text-align: right;\">\n",
       "      <th></th>\n",
       "      <th>hashtag</th>\n",
       "      <th>size</th>\n",
       "    </tr>\n",
       "  </thead>\n",
       "  <tbody>\n",
       "    <tr>\n",
       "      <th>0</th>\n",
       "      <td>04Ene</td>\n",
       "      <td>5</td>\n",
       "    </tr>\n",
       "    <tr>\n",
       "      <th>1</th>\n",
       "      <td>05Ene</td>\n",
       "      <td>2</td>\n",
       "    </tr>\n",
       "    <tr>\n",
       "      <th>2</th>\n",
       "      <td>07deEnero</td>\n",
       "      <td>2</td>\n",
       "    </tr>\n",
       "    <tr>\n",
       "      <th>3</th>\n",
       "      <td>100añosSinÉl</td>\n",
       "      <td>1</td>\n",
       "    </tr>\n",
       "    <tr>\n",
       "      <th>4</th>\n",
       "      <td>108MPNewWorld</td>\n",
       "      <td>1</td>\n",
       "    </tr>\n",
       "  </tbody>\n",
       "</table>\n",
       "</div>"
      ],
      "text/plain": [
       "         hashtag  size\n",
       "0          04Ene     5\n",
       "1          05Ene     2\n",
       "2      07deEnero     2\n",
       "3   100añosSinÉl     1\n",
       "4  108MPNewWorld     1"
      ]
     },
     "execution_count": 124,
     "metadata": {},
     "output_type": "execute_result"
    }
   ],
   "source": [
    "df_hashtags_count = pd.DataFrame(res.groupby([\"hashtag\"]).size())\n",
    "df_hashtags_count.reset_index(inplace=True)\n",
    "df_hashtags_count.columns = [\"hashtag\", \"size\"]\n",
    "df_hashtags_count.head()"
   ]
  },
  {
   "cell_type": "code",
   "execution_count": 126,
   "metadata": {
    "ExecuteTime": {
     "end_time": "2020-02-11T05:31:06.858274Z",
     "start_time": "2020-02-11T05:31:06.826234Z"
    }
   },
   "outputs": [
    {
     "data": {
      "text/html": [
       "<div>\n",
       "<style scoped>\n",
       "    .dataframe tbody tr th:only-of-type {\n",
       "        vertical-align: middle;\n",
       "    }\n",
       "\n",
       "    .dataframe tbody tr th {\n",
       "        vertical-align: top;\n",
       "    }\n",
       "\n",
       "    .dataframe thead th {\n",
       "        text-align: right;\n",
       "    }\n",
       "</style>\n",
       "<table border=\"1\" class=\"dataframe\">\n",
       "  <thead>\n",
       "    <tr style=\"text-align: right;\">\n",
       "      <th></th>\n",
       "      <th>hashtag</th>\n",
       "      <th>size</th>\n",
       "    </tr>\n",
       "  </thead>\n",
       "  <tbody>\n",
       "    <tr>\n",
       "      <th>2743</th>\n",
       "      <td>SesionDeInvestidura</td>\n",
       "      <td>30703</td>\n",
       "    </tr>\n",
       "    <tr>\n",
       "      <th>4294</th>\n",
       "      <td>investidurasanchez</td>\n",
       "      <td>14405</td>\n",
       "    </tr>\n",
       "    <tr>\n",
       "      <th>3745</th>\n",
       "      <td>debateinvestidura</td>\n",
       "      <td>14116</td>\n",
       "    </tr>\n",
       "    <tr>\n",
       "      <th>2754</th>\n",
       "      <td>SesiónDeInvestidura</td>\n",
       "      <td>9791</td>\n",
       "    </tr>\n",
       "    <tr>\n",
       "      <th>1500</th>\n",
       "      <td>Investidurisima</td>\n",
       "      <td>5231</td>\n",
       "    </tr>\n",
       "  </tbody>\n",
       "</table>\n",
       "</div>"
      ],
      "text/plain": [
       "                  hashtag   size\n",
       "2743  SesionDeInvestidura  30703\n",
       "4294   investidurasanchez  14405\n",
       "3745    debateinvestidura  14116\n",
       "2754  SesiónDeInvestidura   9791\n",
       "1500      Investidurisima   5231"
      ]
     },
     "execution_count": 126,
     "metadata": {},
     "output_type": "execute_result"
    }
   ],
   "source": [
    "df_hashtags_count = df_hashtags_count.sort_values(\"size\", ascending=False)\n",
    "df_hashtags_count.head()"
   ]
  },
  {
   "cell_type": "code",
   "execution_count": 127,
   "metadata": {
    "ExecuteTime": {
     "end_time": "2020-02-11T05:32:08.031047Z",
     "start_time": "2020-02-11T05:32:07.434955Z"
    }
   },
   "outputs": [
    {
     "data": {
      "text/plain": [
       "Text(0.5, 1.0, 'Number of tweets for each keyword (in Spanish)')"
      ]
     },
     "execution_count": 127,
     "metadata": {},
     "output_type": "execute_result"
    },
    {
     "data": {
      "image/png": "[encoded data removed]",
      "text/plain": [
       "<Figure size 1080x1080 with 1 Axes>"
      ]
     },
     "metadata": {},
     "output_type": "display_data"
    }
   ],
   "source": [
    "plt.figure(figsize=(15, 15))\n",
    "ax = sns.barplot(x=\"size\", y=\"hashtag\", data=df_hashtags_count.head(10))\n",
    "ax.set_xlabel(\"Number of tweets in spanish\")\n",
    "ax.set_ylabel(\"Keyword\")\n",
    "ax.set_title(\"Number of tweets for each keyword (in Spanish)\")"
   ]
  },
  {
   "cell_type": "code",
   "execution_count": 130,
   "metadata": {
    "ExecuteTime": {
     "end_time": "2020-02-11T05:39:52.994627Z",
     "start_time": "2020-02-11T05:39:49.985828Z"
    }
   },
   "outputs": [
    {
     "data": {
      "text/html": [
       "<div>\n",
       "<style scoped>\n",
       "    .dataframe tbody tr th:only-of-type {\n",
       "        vertical-align: middle;\n",
       "    }\n",
       "\n",
       "    .dataframe tbody tr th {\n",
       "        vertical-align: top;\n",
       "    }\n",
       "\n",
       "    .dataframe thead th {\n",
       "        text-align: right;\n",
       "    }\n",
       "</style>\n",
       "<table border=\"1\" class=\"dataframe\">\n",
       "  <thead>\n",
       "    <tr style=\"text-align: right;\">\n",
       "      <th></th>\n",
       "      <th>tweet_id_str</th>\n",
       "      <th>tweet_full_text</th>\n",
       "      <th>hashtag</th>\n",
       "    </tr>\n",
       "  </thead>\n",
       "  <tbody>\n",
       "    <tr>\n",
       "      <th>0</th>\n",
       "      <td>1215369133350703105</td>\n",
       "      <td>Nuevo vídeo de Un Tío Blanco Hetero.         https://t.co/1VrMCTGVUz</td>\n",
       "      <td>Investidurísima</td>\n",
       "    </tr>\n",
       "    <tr>\n",
       "      <th>1</th>\n",
       "      <td>1215369133350703105</td>\n",
       "      <td>Nuevo vídeo de Un Tío Blanco Hetero.         https://t.co/1VrMCTGVUz</td>\n",
       "      <td>Podemos</td>\n",
       "    </tr>\n",
       "    <tr>\n",
       "      <th>2</th>\n",
       "      <td>1215369133350703105</td>\n",
       "      <td>Nuevo vídeo de Un Tío Blanco Hetero.         https://t.co/1VrMCTGVUz</td>\n",
       "      <td>MinisteriodeMamellas</td>\n",
       "    </tr>\n",
       "    <tr>\n",
       "      <th>3</th>\n",
       "      <td>1215369133350703105</td>\n",
       "      <td>Nuevo vídeo de Un Tío Blanco Hetero.         https://t.co/1VrMCTGVUz</td>\n",
       "      <td>Mmmmm</td>\n",
       "    </tr>\n",
       "    <tr>\n",
       "      <th>4</th>\n",
       "      <td>1215303659673870336</td>\n",
       "      <td>Pablo Casado (2020): Ya no puedo gobernar. Me voy a afeitar\" @pablocasado_   @populares                           https://t.co/a9Wg2ANVY0\"</td>\n",
       "      <td>pablocasado</td>\n",
       "    </tr>\n",
       "    <tr>\n",
       "      <th>5</th>\n",
       "      <td>1215303659673870336</td>\n",
       "      <td>Pablo Casado (2020): Ya no puedo gobernar. Me voy a afeitar\" @pablocasado_   @populares                           https://t.co/a9Wg2ANVY0\"</td>\n",
       "      <td>pp</td>\n",
       "    </tr>\n",
       "    <tr>\n",
       "      <th>6</th>\n",
       "      <td>1215303659673870336</td>\n",
       "      <td>Pablo Casado (2020): Ya no puedo gobernar. Me voy a afeitar\" @pablocasado_   @populares                           https://t.co/a9Wg2ANVY0\"</td>\n",
       "      <td>partidopopular</td>\n",
       "    </tr>\n",
       "    <tr>\n",
       "      <th>7</th>\n",
       "      <td>1215303659673870336</td>\n",
       "      <td>Pablo Casado (2020): Ya no puedo gobernar. Me voy a afeitar\" @pablocasado_   @populares                           https://t.co/a9Wg2ANVY0\"</td>\n",
       "      <td>barba</td>\n",
       "    </tr>\n",
       "    <tr>\n",
       "      <th>8</th>\n",
       "      <td>1215303659673870336</td>\n",
       "      <td>Pablo Casado (2020): Ya no puedo gobernar. Me voy a afeitar\" @pablocasado_   @populares                           https://t.co/a9Wg2ANVY0\"</td>\n",
       "      <td>hipster</td>\n",
       "    </tr>\n",
       "    <tr>\n",
       "      <th>9</th>\n",
       "      <td>1215303659673870336</td>\n",
       "      <td>Pablo Casado (2020): Ya no puedo gobernar. Me voy a afeitar\" @pablocasado_   @populares                           https://t.co/a9Wg2ANVY0\"</td>\n",
       "      <td>investidurasanchez</td>\n",
       "    </tr>\n",
       "  </tbody>\n",
       "</table>\n",
       "</div>"
      ],
      "text/plain": [
       "          tweet_id_str                                                                                                                             tweet_full_text               hashtag\n",
       "0  1215369133350703105                                                                        Nuevo vídeo de Un Tío Blanco Hetero.         https://t.co/1VrMCTGVUz       Investidurísima\n",
       "1  1215369133350703105                                                                        Nuevo vídeo de Un Tío Blanco Hetero.         https://t.co/1VrMCTGVUz               Podemos\n",
       "2  1215369133350703105                                                                        Nuevo vídeo de Un Tío Blanco Hetero.         https://t.co/1VrMCTGVUz  MinisteriodeMamellas\n",
       "3  1215369133350703105                                                                        Nuevo vídeo de Un Tío Blanco Hetero.         https://t.co/1VrMCTGVUz                 Mmmmm\n",
       "4  1215303659673870336  Pablo Casado (2020): Ya no puedo gobernar. Me voy a afeitar\" @pablocasado_   @populares                           https://t.co/a9Wg2ANVY0\"           pablocasado\n",
       "5  1215303659673870336  Pablo Casado (2020): Ya no puedo gobernar. Me voy a afeitar\" @pablocasado_   @populares                           https://t.co/a9Wg2ANVY0\"                    pp\n",
       "6  1215303659673870336  Pablo Casado (2020): Ya no puedo gobernar. Me voy a afeitar\" @pablocasado_   @populares                           https://t.co/a9Wg2ANVY0\"        partidopopular\n",
       "7  1215303659673870336  Pablo Casado (2020): Ya no puedo gobernar. Me voy a afeitar\" @pablocasado_   @populares                           https://t.co/a9Wg2ANVY0\"                 barba\n",
       "8  1215303659673870336  Pablo Casado (2020): Ya no puedo gobernar. Me voy a afeitar\" @pablocasado_   @populares                           https://t.co/a9Wg2ANVY0\"               hipster\n",
       "9  1215303659673870336  Pablo Casado (2020): Ya no puedo gobernar. Me voy a afeitar\" @pablocasado_   @populares                           https://t.co/a9Wg2ANVY0\"    investidurasanchez"
      ]
     },
     "execution_count": 130,
     "metadata": {},
     "output_type": "execute_result"
    }
   ],
   "source": [
    "df_tweets_analysis = df_tweets_es.loc[:,[\"tweet_id_str\", \"tweet_full_text\"]].merge(res, on=\"tweet_id_str\")\n",
    "df_tweets_analysis.head(10)"
   ]
  },
  {
   "cell_type": "code",
   "execution_count": null,
   "metadata": {},
   "outputs": [],
   "source": []
  }
 ],
 "metadata": {
  "kernelspec": {
   "display_name": "Python 3",
   "language": "python",
   "name": "python3"
  },
  "language_info": {
   "codemirror_mode": {
    "name": "ipython",
    "version": 3
   },
   "file_extension": ".py",
   "mimetype": "text/x-python",
   "name": "python",
   "nbconvert_exporter": "python",
   "pygments_lexer": "ipython3",
   "version": "3.7.3"
  },
  "toc": {
   "base_numbering": 1,
   "nav_menu": {},
   "number_sections": true,
   "sideBar": true,
   "skip_h1_title": false,
   "title_cell": "Table of Contents",
   "title_sidebar": "Contents",
   "toc_cell": false,
   "toc_position": {},
   "toc_section_display": true,
   "toc_window_display": false
  },
  "varInspector": {
   "cols": {
    "lenName": 16,
    "lenType": 16,
    "lenVar": 40
   },
   "kernels_config": {
    "python": {
     "delete_cmd_postfix": "",
     "delete_cmd_prefix": "del ",
     "library": "var_list.py",
     "varRefreshCmd": "print(var_dic_list())"
    },
    "r": {
     "delete_cmd_postfix": ") ",
     "delete_cmd_prefix": "rm(",
     "library": "var_list.r",
     "varRefreshCmd": "cat(var_dic_list()) "
    }
   },
   "types_to_exclude": [
    "module",
    "function",
    "builtin_function_or_method",
    "instance",
    "_Feature"
   ],
   "window_display": false
  }
 },
 "nbformat": 4,
 "nbformat_minor": 2
}
